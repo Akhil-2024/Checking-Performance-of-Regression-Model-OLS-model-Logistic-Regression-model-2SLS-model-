{
  "nbformat": 4,
  "nbformat_minor": 0,
  "metadata": {
    "colab": {
      "provenance": [],
      "mount_file_id": "1lXVKGKDSk6M_8d_LhHzMwDgpuyHX1cyr",
      "authorship_tag": "ABX9TyMj2Y7TXp/WySQGBD0ZOOJS",
      "include_colab_link": true
    },
    "kernelspec": {
      "name": "python3",
      "display_name": "Python 3"
    },
    "language_info": {
      "name": "python"
    }
  },
  "cells": [
    {
      "cell_type": "markdown",
      "metadata": {
        "id": "view-in-github",
        "colab_type": "text"
      },
      "source": [
        "<a href=\"https://colab.research.google.com/github/Akhileshkrpatel2024/Checking-Performance-of-Regression-Model-OLS-model-Logistic-Regression-model-2SLS-model-/blob/main/OLS_model_Logistic_Regression_model_2SLS_model_.ipynb\" target=\"_parent\"><img src=\"https://colab.research.google.com/assets/colab-badge.svg\" alt=\"Open In Colab\"/></a>"
      ]
    },
    {
      "cell_type": "markdown",
      "source": [
        "**Problem Statement:-**\n",
        "We want to predict the species of an iris flower based on the measurements of its sepal length, sepal width, petal length, and petal width."
      ],
      "metadata": {
        "id": "vctwhqh8iMb_"
      }
    },
    {
      "cell_type": "markdown",
      "source": [
        "**Code**"
      ],
      "metadata": {
        "id": "TfstQ7iqhtK1"
      }
    },
    {
      "cell_type": "code",
      "source": [
        "import pandas as pd\n",
        "import numpy as np\n",
        "from sklearn.datasets import load_iris\n",
        "import matplotlib.pyplot as plt \n",
        " \n",
        "\n",
        "# Load iris dataset\n",
        "iris = load_iris()\n",
        "iris_df = pd.DataFrame(data=np.c_[iris['data'], iris['target']],\n",
        "                       columns=iris['feature_names'] + ['target'])"
      ],
      "metadata": {
        "id": "wc1x6vKeXcmN"
      },
      "execution_count": null,
      "outputs": []
    },
    {
      "cell_type": "markdown",
      "source": [
        "**Next, we will split the dataset into training and testing sets.**"
      ],
      "metadata": {
        "id": "WsJoINww7xj-"
      }
    },
    {
      "cell_type": "code",
      "source": [
        "#Next, we will split the dataset into training and testing sets.\n",
        "from sklearn.model_selection import train_test_split\n",
        "\n",
        "X_train, X_test, y_train, y_test = train_test_split(iris_df.drop('target', axis=1),\n",
        "                                                    iris_df['target'], test_size=0.3,\n",
        "                                                    random_state=42)\n"
      ],
      "metadata": {
        "id": "8NXd3N9I6yIV"
      },
      "execution_count": null,
      "outputs": []
    },
    {
      "cell_type": "code",
      "source": [
        "# Create a scatter plot of sepal length and sepal width\n",
        "plt.scatter(iris_df['sepal length (cm)'], iris_df['sepal width (cm)'])\n",
        "plt.xlabel('sepal length (cm)')\n",
        "plt.ylabel('sepal width (cm)')\n",
        "plt.title('Scatter plot of sepal length vs sepal width')\n",
        "plt.show()"
      ],
      "metadata": {
        "colab": {
          "base_uri": "https://localhost:8080/",
          "height": 295
        },
        "id": "QYKQKvfaEVkE",
        "outputId": "82a55777-4cc6-4562-e233-1f9d08a41a0c"
      },
      "execution_count": null,
      "outputs": [
        {
          "output_type": "display_data",
          "data": {
            "text/plain": [
              "<Figure size 432x288 with 1 Axes>"
            ],
            "image/png": "[encoded data removed]"
          },
          "metadata": {
            "needs_background": "light"
          }
        }
      ]
    },
    {
      "cell_type": "code",
      "source": [
        "# Create a histogram of petal length\n",
        "plt.hist(iris_df['petal length (cm)'], bins=10)\n",
        "plt.xlabel('petal length (cm)')\n",
        "plt.ylabel('frequency')\n",
        "plt.title('Histogram of petal length')\n",
        "plt.show()"
      ],
      "metadata": {
        "colab": {
          "base_uri": "https://localhost:8080/",
          "height": 295
        },
        "id": "M1YmR2_JEbqF",
        "outputId": "370d139c-94dd-441a-9e31-3b9ec2698bdb"
      },
      "execution_count": null,
      "outputs": [
        {
          "output_type": "display_data",
          "data": {
            "text/plain": [
              "<Figure size 432x288 with 1 Axes>"
            ],
            "image/png": "[encoded data removed]"
          },
          "metadata": {
            "needs_background": "light"
          }
        }
      ]
    },
    {
      "cell_type": "markdown",
      "source": [
        "**OLS model**"
      ],
      "metadata": {
        "id": "HggpgpVj7o8F"
      }
    },
    {
      "cell_type": "code",
      "source": [
        "#We can now proceed with the implementation of the three models:\n",
        "from sklearn.linear_model import LinearRegression\n",
        "\n",
        "# Fit OLS model on training data\n",
        "ols_model = LinearRegression().fit(X_train, y_train)\n",
        "\n",
        "# Predict on testing data\n",
        "ols_pred = ols_model.predict(X_test)\n",
        "\n",
        "# Compute R-squared\n",
        "ols_r2 = ols_model.score(X_test, y_test)\n",
        "\n",
        "print(f\"OLS R-squared: {ols_r2:.3f}\")\n"
      ],
      "metadata": {
        "colab": {
          "base_uri": "https://localhost:8080/"
        },
        "id": "pj1CN-Wv6yK8",
        "outputId": "410bc3aa-8eab-43be-e947-8a0d9ceb103a"
      },
      "execution_count": null,
      "outputs": [
        {
          "output_type": "stream",
          "name": "stdout",
          "text": [
            "OLS R-squared: 0.944\n"
          ]
        }
      ]
    },
    {
      "cell_type": "markdown",
      "source": [
        "**Logistic Regression model**"
      ],
      "metadata": {
        "id": "9LzesSle7imY"
      }
    },
    {
      "cell_type": "code",
      "source": [
        "from sklearn.linear_model import LogisticRegression\n",
        "\n",
        "# Fit logistic regression model on training data\n",
        "logistic_model = LogisticRegression().fit(X_train, y_train)\n",
        "\n",
        "# Predict on testing data\n",
        "logistic_pred = logistic_model.predict(X_test)\n",
        "\n",
        "# Compute accuracy\n",
        "logistic_acc = logistic_model.score(X_test, y_test)\n",
        "\n",
        "print(f\"Logistic Regression accuracy: {logistic_acc:.3f}\")\n"
      ],
      "metadata": {
        "colab": {
          "base_uri": "https://localhost:8080/"
        },
        "id": "71eyDEH76yNv",
        "outputId": "a76ec70f-6b82-4478-f2ba-49ae536d1628"
      },
      "execution_count": null,
      "outputs": [
        {
          "output_type": "stream",
          "name": "stdout",
          "text": [
            "Logistic Regression accuracy: 1.000\n"
          ]
        }
      ]
    },
    {
      "cell_type": "markdown",
      "source": [
        "**2SLS model**"
      ],
      "metadata": {
        "id": "EFvnEMac7cxo"
      }
    },
    {
      "cell_type": "code",
      "source": [
        "from statsmodels.sandbox.regression.gmm import IV2SLS\n",
        "\n",
        "# Create instrument and endogenous variables\n",
        "instruments = np.random.randn(len(X_train), 2)\n",
        "endogenous = np.random.randn(len(X_train))\n",
        "# Fit 2SLS model on training data\n",
        "tsls_model = IV2SLS(y_train, X_train, endogenous ).fit()\n",
        "#print (tsls_model)\n",
        "# Predict on testing data\n",
        "tsls_pred = tsls_model.predict(X_test)\n",
        "\n",
        "# Compute R-squared\n",
        "tsls_r2 = tsls_model.rsquared\n",
        "\n",
        "print(f\"2SLS R-squared: {tsls_r2:.3f}\")\n"
      ],
      "metadata": {
        "colab": {
          "base_uri": "https://localhost:8080/"
        },
        "id": "_7nQCJPS6yQX",
        "outputId": "485ad9de-a938-4efd-a399-78729ae7fd6f"
      },
      "execution_count": null,
      "outputs": [
        {
          "output_type": "stream",
          "name": "stdout",
          "text": [
            "2SLS R-squared: 0.560\n"
          ]
        }
      ]
    },
    {
      "cell_type": "markdown",
      "source": [
        "**Conclusion :-**\n",
        "\n",
        "Determine which model is the best for this dataset, we need to look at the problem we are trying to solve. \n",
        "\n",
        "1-\n",
        "If we are trying to predict the class of a new observation, then logistic regression would be the most appropriate model.\n",
        "\n",
        "\n",
        "2-\n",
        " On the other hand, if we are trying to predict a continuous variable, then OLS would be the best choice.\n",
        "\n",
        "3-\n",
        "The 2SLS model is used in situations where we have endogeneity in our variables, meaning that the variables are correlated with the error term.\n",
        "In this particular dataset, there does not appear to be any endogeneity, so the 2SLS model would not be necessary.\n",
        "\n"
      ],
      "metadata": {
        "id": "csipOC5T7VAZ"
      }
    }
  ]
}